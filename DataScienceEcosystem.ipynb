{
 "cells": [
  {
   "cell_type": "markdown",
   "id": "8b634b81-d617-4a1c-b807-24273528b4dd",
   "metadata": {},
   "source": [
    "# Data Science Tools and Ecosystem"
   ]
  },
  {
   "cell_type": "markdown",
   "id": "9cf5fa68-5bd5-49d6-975b-c5d153350011",
   "metadata": {},
   "source": [
    "In this notebook, Data Science Tools and Ecosystem are summarized.\n",
    "\n",
    "**Objectives:**\n",
    "- List popular languages that Data Scientists use.\n",
    "- List commonly used libraries used by Data Scientists.\n",
    "- List of Data Science tools.\n",
    "- Use of arithmetic expression"
   ]
  },
  {
   "cell_type": "markdown",
   "id": "4cf50f5a-043d-4094-9b56-6feab527c4f2",
   "metadata": {},
   "source": [
    "Some of the popular languages that Data Scientists use are:\n",
    "*  Python\n",
    "*  R\n",
    "*  Java"
   ]
  },
  {
   "cell_type": "markdown",
   "id": "ca263797-1ed0-47a9-a638-9cfb6a2f7a5a",
   "metadata": {},
   "source": [
    "Some of the commonly used libraries used by Data Scientists include:\n",
    "* Pandas\n",
    "* Numpy\n",
    "* Tensonflow\n",
    "* Ploty\n",
    "* Scipy"
   ]
  },
  {
   "cell_type": "markdown",
   "id": "b0d17073-094d-4853-97c1-7cde9a57c3b1",
   "metadata": {},
   "source": [
    "|Data Science Tools|\n",
    "|--------|\n",
    "|Jupyter Notebook|\n",
    "|Apache Spark|\t\t\n",
    "|BigML|"
   ]
  },
  {
   "cell_type": "markdown",
   "id": "0c42c6ff-ec8b-46c9-8878-dc0321b23d6d",
   "metadata": {},
   "source": [
    "### Below are a few examples of evaluating arithmetic expressions in Python\n",
    "1. 3+4\n",
    "1. 5-6\n",
    "1. (5*1)+2\n",
    "1. (4+2)/2"
   ]
  },
  {
   "cell_type": "code",
   "execution_count": 104,
   "id": "700ccd64-0fe3-4218-b7fc-59b54216d8b5",
   "metadata": {},
   "outputs": [
    {
     "data": {
      "text/plain": [
       "17"
      ]
     },
     "execution_count": 104,
     "metadata": {},
     "output_type": "execute_result"
    }
   ],
   "source": [
    "#This a simple arithmetic expression to mutiply then add integers\n",
    "(3*4)+5"
   ]
  },
  {
   "cell_type": "code",
   "execution_count": 106,
   "id": "51245948-d372-4f9b-8bb0-eb25b226247e",
   "metadata": {},
   "outputs": [
    {
     "name": "stdout",
     "output_type": "stream",
     "text": [
      "200 minuts coorresponds to  3.3333333333333335 hours\n"
     ]
    }
   ],
   "source": [
    "#This will convert 200 minutes to hours by diving by 60\n",
    "min=200\n",
    "sec=60\n",
    "\n",
    "hr=min/sec\n",
    "print(min ,\"minuts coorresponds to \", hr, \"hours\")"
   ]
  },
  {
   "cell_type": "markdown",
   "id": "adbf6df5-ef79-4c89-8d7d-2449bc531901",
   "metadata": {},
   "source": [
    "## Author\n",
    "Lidis Quessia S. da Mata"
   ]
  },
  {
   "cell_type": "code",
   "execution_count": null,
   "id": "a84c91e1-4142-4e8f-9fdf-2b40577b3f0f",
   "metadata": {},
   "outputs": [],
   "source": []
  }
 ],
 "metadata": {
  "kernelspec": {
   "display_name": "Python 3 (ipykernel)",
   "language": "python",
   "name": "python3"
  },
  "language_info": {
   "codemirror_mode": {
    "name": "ipython",
    "version": 3
   },
   "file_extension": ".py",
   "mimetype": "text/x-python",
   "name": "python",
   "nbconvert_exporter": "python",
   "pygments_lexer": "ipython3",
   "version": "3.12.4"
  }
 },
 "nbformat": 4,
 "nbformat_minor": 5
}
